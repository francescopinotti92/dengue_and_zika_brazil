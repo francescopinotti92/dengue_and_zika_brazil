{
 "cells": [
  {
   "cell_type": "code",
   "execution_count": 1,
   "id": "d5d656bb",
   "metadata": {},
   "outputs": [],
   "source": [
    "import os\n",
    "import sys\n",
    "import json\n",
    "import copy\n",
    "import numpy as np\n",
    "import matplotlib.pyplot as plt\n",
    "%matplotlib inline"
   ]
  },
  {
   "cell_type": "markdown",
   "id": "18fe1ea6",
   "metadata": {},
   "source": [
    "## Importing code to simulate DENV and ZIKV transmission\n",
    "\n",
    "Functions that simulate DENV and ZIKV transmission are found in a module named `pyflavi`, which is a wrapper around simulation code written in C++.\n",
    "\n",
    "Before importing `pyflavi`, the latter needs to be compiled using `make` (see README). Compilation requires [`pybind11`](https://github.com/pybind/pybind11).\n",
    "\n",
    "After compilation succeeds, `pyflavi` can be imported as any other Python module."
   ]
  },
  {
   "cell_type": "code",
   "execution_count": 2,
   "id": "f18864c2",
   "metadata": {},
   "outputs": [],
   "source": [
    "path_pyflavi = '../pyflavi/pyflavi/lib'\n",
    "if path_pyflavi not in sys.path:\n",
    "    sys.path.append( path_pyflavi )\n",
    "    \n",
    "import pyflavi"
   ]
  },
  {
   "cell_type": "code",
   "execution_count": null,
   "id": "f4251752",
   "metadata": {},
   "outputs": [],
   "source": []
  },
  {
   "cell_type": "code",
   "execution_count": 3,
   "id": "21e551fe",
   "metadata": {},
   "outputs": [],
   "source": [
    "def get_checkpts( Tstart, Tstop, how ):\n",
    "\n",
    "    '''\n",
    "    Creates a list of time points between 'Tstart' and 'Tstop'\n",
    "    with a given frequency\n",
    "    '''\n",
    "    \n",
    "    assert( Tstart <= Tstop )\n",
    "\n",
    "    if how == 'monthly':\n",
    "        dts = [31,28,31,30,31,30,31,31,30,31,30,31]\n",
    "    elif how == 'weekly':\n",
    "        dts = [7] * 51 + [8]\n",
    "    elif how == 'biweekly':\n",
    "        dts = [14] * 25 + [15]\n",
    "    elif how == 'yearly':\n",
    "        dts = [365]\n",
    "    else:\n",
    "        raise ValueError( \"Select a valid spacing\" )\n",
    "\n",
    "    ndts = len( dts )\n",
    "\n",
    "    res = []\n",
    "    i = 0\n",
    "    t = Tstart - 1 + dts[0]\n",
    "    while ( t < Tstop ):\n",
    "        res.append( t )\n",
    "        i = (i + 1) % ndts\n",
    "        t += dts[i]\n",
    "\n",
    "    return res\n",
    "\n",
    "def simulate_ZIKV_usual( args ):\n",
    "\n",
    "    '''\n",
    "    Simulates ZIKV transmission in a population where DENV\n",
    "    has been let spread for some time before ZIKV is introduced.\n",
    "    \n",
    "    Assumes that a recent ZIKV infections prevents DENV transmission.\n",
    "    \n",
    "    ZIKV is introduced by setting 10 individuals as infected with this virus.\n",
    "    \n",
    "    Returns incidence of DENV and ZIKV for 10 years\n",
    "    after ZIKV introduction.\n",
    "    '''\n",
    "    \n",
    "    #== Fixed parameters                                                                                                                                         \n",
    "    N = 300000 # Population size\n",
    "    Tsample = 100 * 365 # Sample incidence from this point\n",
    "    TintroZ = Tsample # Time of Zika introduction\n",
    "    Tmax = Tsample + 10 * 365 # Stopping time\n",
    "\n",
    "    nstrains = 5 # Number of pathogens (4 DENV serotypes + ZIKV)\n",
    "    epsiD = 1./15.9 # DENV incubation rate (1/days)\n",
    "    epsiZ = 1./15.9 # ZIKV incubation rate (1/days)\n",
    "    sigmaD = 1./4.5 # DENV recovery rate (1/days)\n",
    "    sigmaZ = 1./4.5 # ZIKV recovery rate (1/days)\n",
    "    intro_rate = 2. / 30 # DENV introduction rate\n",
    "    mean_degree = 1. # Mean number of contacts made daily by individuals\n",
    "    lD = 2. # Duration of cross-protection (years)\n",
    "    seasD = 0.3 # Seasonal amplitude of DENV transmission\n",
    "    seasZ = 0.  # Seasonal amplitude of ZIKV transmission\n",
    "    peakD = 15. # Peak time (day) of DENV seasonality \n",
    "    peakZ = 0.  # Peak time (day) of ZIKV seasonality \n",
    "    age_shape = 3.3 # Weibull parameter of population age distribution (1)\n",
    "    age_scale = 62  # Weibull parameter of population age distribution (2)\n",
    "\n",
    "    # Cross reactivity parameters\n",
    "    rhoDZ, rhoZD, rhoZD0 = 1., 1., 1. # Modified susceptibility to infection\n",
    "    csiDZ, csiZD = 1., 0. # Modified susceptibility to transmission\n",
    "    gamma1D, gamma2D = 1., 1. # Further arguments (unit value corresponds to no effect)\n",
    "    gamma1Z, gamma2Z = 1., 1. # Further arguments (unit value corresponds to no effect)\n",
    "\n",
    "    #== External arguments:\n",
    "    # (1) R0 of ZIKV\n",
    "    # (2) Duration of cross-protection following ZIKV infection\n",
    "    # (3) R0 of DENV\n",
    "    # (4) Seed for c++ random number generator\n",
    "    # (5) Number of simulations\n",
    "    # (6) Frequency of sampling\n",
    "    R0Z, lZ, R0D, seed, Nsim, freqSampling = args\n",
    "    \n",
    "    betaZ = R0Z * sigmaZ # Transmission rate of ZIKV\n",
    "    betaD = R0D * sigmaD # Transmission rate of DENV\n",
    "    nZIKV0 = 10 # initial number of ZIKV cases\n",
    "\n",
    "    # Define monthly sampling time points \n",
    "    checkpts = get_checkpts( Tsample, Tmax, freqSampling)\n",
    "\n",
    "    # returns incidence\n",
    "    inc = pyflavi.simulate_ZIKV( Nsim, seed, Tmax, Tsample, TintroZ, N, nstrains, [0,1,2,3], checkpts, False, betaD, betaZ, epsiD, epsiZ, sigmaD, sigmaZ,\n",
    "                                 mean_degree, lD, lZ, intro_rate, seasD, seasZ, peakD, peakZ, age_shape, age_scale, rhoDZ, rhoZD, rhoZD0, csiDZ, csiZD, gamma1D, gamma1Z, gamma2D, gamma2Z, nZIKV0 )\n",
    "\n",
    "    inc = np.array( inc )\n",
    "\n",
    "    #np.save( path_save, inc )\n",
    "    return inc"
   ]
  },
  {
   "cell_type": "markdown",
   "id": "a0f934fd",
   "metadata": {},
   "source": [
    "## Example simulation\n",
    "\n",
    "Code below runs 10 simulations assuming that ZIKV is introduced by infecting 10 random individuals. ZIKV is then allowed to spread with $R_{0,Z} > 1$\n",
    "\n",
    "DENV is let spread for 100 years before ZIKV is introduced so that DENV dynamics can be considered at equilibrium at that moment.\n",
    "\n",
    "$R_{0,Z}$ is calibrated so that ZIKV gives rise to a given attack rate"
   ]
  },
  {
   "cell_type": "code",
   "execution_count": 4,
   "id": "0d9b5d9b",
   "metadata": {},
   "outputs": [],
   "source": [
    "#== Set parameters\n",
    "\n",
    "Nsim = 10 # Number of independent simulations\n",
    "propZ = 0.7 # ZIKV attack rate (0.7 means 70% of people are expected to become infected)\n",
    "R0Z = - np.log( 1 - propZ ) / propZ # Retrieve the R0 of ZIKV corresponding to attack rate above\n",
    "lZ = 1. # Duration of ZIKV-induced cross-protection (years)\n",
    "R0D = 1.65 # R0 of DENV\n",
    "\n",
    "#== Simulation (10 initial infected & onward transmission)\n",
    "seed0 = 1 # Seed for random number generator\n",
    "incUsual = simulate_ZIKV_usual( ( R0Z, lZ, R0D, seed0, Nsim, 'monthly' ) )\n",
    "\n"
   ]
  },
  {
   "cell_type": "markdown",
   "id": "d1095ce7",
   "metadata": {},
   "source": [
    "### Parsing the result\n",
    "\n",
    "Both functions yield a numpy array with 4 axes:\n",
    "\n",
    "1. Simulation axis (length: Nsim)\n",
    "2. The number of time points (length: 120 = 10 years times 12 months per year\n",
    "3. Type of incident case (length: 12, more below)\n",
    "4. Age of incident case (length: 101, from 0 to 100 years)\n",
    "\n",
    "About the third axis: the 'type' of incident case refers to:\n",
    "\n",
    "- ZIKV infection (entries 0,1,2,3): The 4 subcategories correspond to 0,1,2,>2 past DENV infections, respectively\n",
    "- DENV infection (entries 4,5,6,7,8,9,10,11): The 8 subcategories correspond to no previous ZIKV infection and 0,1,2,3 past DENV infections (entries 4,5,6,7) and a previous ZIKV infection and 0,1,2,3 past DENV infections (entries 8,9,10,11)"
   ]
  },
  {
   "cell_type": "code",
   "execution_count": 10,
   "id": "4e052bf8",
   "metadata": {},
   "outputs": [
    {
     "data": {
      "text/plain": [
       "(10, 120, 12, 101)"
      ]
     },
     "execution_count": 10,
     "metadata": {},
     "output_type": "execute_result"
    }
   ],
   "source": [
    "# show the shape of the resulting numpy array\n",
    "incUsual.shape"
   ]
  },
  {
   "cell_type": "markdown",
   "id": "03bd4c9f",
   "metadata": {},
   "source": [
    "### Plotting DENV and ZIKV incidence"
   ]
  },
  {
   "cell_type": "code",
   "execution_count": 34,
   "id": "c14144da",
   "metadata": {},
   "outputs": [
    {
     "data": {
      "text/plain": [
       "<matplotlib.legend.Legend at 0x7fb121fe10d0>"
      ]
     },
     "execution_count": 34,
     "metadata": {},
     "output_type": "execute_result"
    },
    {
     "data": {
      "image/png": "[encoded data removed]",
      "text/plain": [
       "<Figure size 800x300 with 3 Axes>"
      ]
     },
     "metadata": {},
     "output_type": "display_data"
    }
   ],
   "source": [
    "#== set up figure\n",
    "\n",
    "fig, ax = plt.subplots( ncols = 2, figsize = ( 8, 3 ), constrained_layout = True  )\n",
    "\n",
    "#== plot total DENV and ZIKV cases over time\n",
    "\n",
    "# select DENV incident cases and sum over case age and case subtype\n",
    "yD = incUsual[:,:,4:,:].sum( axis = (2,3) ) \n",
    "# select ZIKV incident cases and sum over case age and case subtype\n",
    "yZ = incUsual[:,:,:4,:].sum( axis = (2,3) ) \n",
    "\n",
    "nsim = y.shape[0] # number of simulations\n",
    "\n",
    "ax0b = ax[0].twinx() # define new axis to show ZIKV \n",
    "for sim in range( nsim ):\n",
    "    ax[0].plot( yD[sim], c = 'black', alpha = 0.5 ) # plot DENV incidence\n",
    "    ax0b.plot( yZ[sim], c = 'red', alpha = 0.5 ) # plot DENV incidence\n",
    "    \n",
    "ax[0].set_xlabel( 'Time (months)' )\n",
    "ax[0].set_ylabel( 'DENV incidence' )\n",
    "\n",
    "ax0b.set_ylabel( 'ZIKV incidence', c = 'red' )\n",
    "\n",
    "#== plot the age distribution of ZIKV cases by number of previous ZIKV infections\n",
    "\n",
    "# select ZIKV incident cases and sum over simulations and timesteps\n",
    "yaZ = incUsual[:,:,:4].sum( axis = (0,1) ) \n",
    "\n",
    "labels = ['0','1','2','>2']\n",
    "for i in range( 4 ):\n",
    "    ax[1].plot( yaZ[i,:] / sum( yaZ[i,:] ), label = labels[i] ) # plot DENV incidence\n",
    "\n",
    "\n",
    "ax[1].set_xlabel( 'Age (years)' )\n",
    "ax[1].set_ylabel( 'Frequency' )\n",
    "\n",
    "ax[1].legend( title = 'Past DENV\\ninfections')"
   ]
  },
  {
   "cell_type": "markdown",
   "id": "c8856062",
   "metadata": {},
   "source": [
    "Checking that ZIKV attack rate is close to expected attack rate (*propZ*)"
   ]
  },
  {
   "cell_type": "code",
   "execution_count": 39,
   "id": "1062a769",
   "metadata": {},
   "outputs": [
    {
     "data": {
      "text/plain": [
       "array([0.69992   , 0.70385   , 0.70324667, 0.70194   , 0.70290667,\n",
       "       0.70322   , 0.70319   , 0.69886667, 0.70051667, 0.69898333])"
      ]
     },
     "execution_count": 39,
     "metadata": {},
     "output_type": "execute_result"
    }
   ],
   "source": [
    "# get a list of attack rates per simulation\n",
    "incUsual[:,:,:4,:].sum( axis = ( 1, 2, 3 ) ) / 300000"
   ]
  },
  {
   "cell_type": "markdown",
   "id": "4ebffdbb",
   "metadata": {},
   "source": [
    "## Simulating reported incidence\n",
    "\n",
    "We transform simulated incidence into 'reported' incidence by weighting each incident case according to the number of prior DENV and ZIKV infections.\n",
    "\n",
    "Weights encode the the modulating effect of prior infections on DENV severity. \n",
    "\n",
    "The weight corresponding to secondary DENV infections in ZIKV-naive individuals is set to 1 as a reference, as explained in the main manuscript."
   ]
  },
  {
   "cell_type": "code",
   "execution_count": 22,
   "id": "5dc08be9",
   "metadata": {},
   "outputs": [],
   "source": [
    "def apply_weights_age( inc0, w, with_zikv = True ):\n",
    "    \n",
    "    '''\n",
    "    Weights incidence ('inc0') according to weights 'w'\n",
    "    Each weight applies to a different subtype of incident cases\n",
    "    '''\n",
    "    \n",
    "    inc = inc0.copy()\n",
    "    \n",
    "    if with_zikv:\n",
    "\n",
    "        inc[0,0,:]  = inc[0,0,:]  * w['wD0']\n",
    "        inc[0,1,:]  = inc[0,1,:]  * w['wD1']\n",
    "        inc[0,2,:]  = inc[0,2,:]  * w['wD2']\n",
    "        inc[0,3:,:] = inc[0,3:,:] * w['wD2+']        \n",
    "\n",
    "        inc[1,0,:]  = inc[1,0,:]  * w['wZD0']\n",
    "        inc[1,1,:]  = inc[1,1,:]  * w['wZD1']\n",
    "        inc[1,2,:]  = inc[1,2,:]  * w['wZD2']\n",
    "        inc[1,3:,:] = inc[1,3:,:] * w['wZD2+'] \n",
    "\n",
    "        return inc\n",
    "    else:\n",
    "\n",
    "        inc[0,:]  = inc[0,:]  * w['wD0']\n",
    "        inc[1,:]  = inc[1,:]  * w['wD1']\n",
    "        inc[2,:]  = inc[2,:]  * w['wD2']\n",
    "        inc[3:,:] = inc[3:,:] * w['wD2+']        \n",
    "\n",
    "        return inc\n",
    "    \n",
    "def measure_mean_obs_age( inc, ws, iyear, midbins ):\n",
    "    \n",
    "    '''\n",
    "    Measures mean age of reported/observed cases\n",
    "    by first reconstructing reported incidence, which is\n",
    "    obtained by weighting (ws) incidence (inc).\n",
    "    Incidence is assumed to be measured yearly and 'iyear'\n",
    "    selects incidence from a single year.\n",
    "    '''\n",
    "    \n",
    "    tmp = inc.copy().astype( float )\n",
    "    \n",
    "    Nsim = tmp.shape[0] # number of simulations\n",
    "    Ntsteps = tmp.shape[1] # number of time \n",
    "    \n",
    "    res = []\n",
    "    \n",
    "    for sim in range( Nsim ): # loop over simulations\n",
    "        \n",
    "        #=== compute A(D|Z)\n",
    "        incD = tmp[sim,iyear,4:,:] # get incidence by year\n",
    "        incD = incD.reshape( 2, 4, 101 ) # reshape incidence\n",
    "        \n",
    "        incDobs = apply_weights_age( incD, ws, True )\n",
    "        ageHistObs = incDobs.sum( axis = ( 0, 1 ) ) # sum over nZ and nD\n",
    "        \n",
    "        ageMeanObs = np.dot( midbins, ageHistObs ) / ageHistObs.sum() # get mean obs age\n",
    "        res.append( ageMeanObs )\n",
    "        \n",
    "    return res"
   ]
  },
  {
   "cell_type": "markdown",
   "id": "e4e3caf4",
   "metadata": {},
   "source": [
    "Here we define three different sets of weights corresponding to 3 distinct hypotheses about ZIKV-induced modulation of DENV severity:\n",
    "\n",
    "- Null scenario: ZIKV does not affect DENV severity. Weights do not depend on presence or absence of a prior infection with ZIKV\n",
    "- Scenario (i): ZIKV enhances disease in primary DENV infections as if these were secondary DENV infections. Effectively, ZIKV behaves as a fifth DENV serotype\n",
    "- Scenario (ii): ZIKV enhances both primary and secondary DENV infections."
   ]
  },
  {
   "cell_type": "code",
   "execution_count": 6,
   "id": "fa934835",
   "metadata": {},
   "outputs": [],
   "source": [
    "#= null hyp (ZIKV does not modify DENV severity)\n",
    "ws_0 = { 'wD0': 0.33 , 'wD1': 1., 'wD2': 0.26, 'wD2+': 0., \n",
    "         'wZD0': 0.33, 'wZD1': 1., 'wZD2': 0.26, 'wZD2+': 0. }\n",
    "\n",
    "#= hyp i (ZIKV as fifth serotype)\n",
    "ws_i = { 'wD0': 0.33 , 'wD1': 1., 'wD2': 0.26, 'wD2+': 0., \n",
    "         'wZD0': 1., 'wZD1': 0.26, 'wZD2': 0., 'wZD2+': 0. }\n",
    "\n",
    "#= hyp ii (ZIKV enhances D0 and D1)\n",
    "ws_ii = { 'wD0': 0.33 , 'wD1': 1., 'wD2': 0.26, 'wD2+': 0., \n",
    "          'wZD0': 1., 'wZD1': 1., 'wZD2': 0., 'wZD2+': 0. }\n"
   ]
  },
  {
   "cell_type": "markdown",
   "id": "cb715be3",
   "metadata": {},
   "source": [
    "Simulate DENV incidence"
   ]
  },
  {
   "cell_type": "code",
   "execution_count": 19,
   "id": "4d99d033",
   "metadata": {},
   "outputs": [],
   "source": [
    "#== Set parameters\n",
    "\n",
    "Nsim = 10 # Number of independent simulations\n",
    "propZ = 0.7 # ZIKV attack rate (0.7 means 70% of people are expected to become infected)\n",
    "R0Z = - np.log( 1 - propZ ) / propZ # Retrieve the R0 of ZIKV corresponding to attack rate above\n",
    "lZ = 1. # Duration of ZIKV-induced cross-protection (years)\n",
    "R0D = 1.65 # R0 of DENV\n",
    "\n",
    "#== Simulation (10 initial infected & onward transmission)\n",
    "seed0 = 1 # Seed for random number generator\n",
    "incUsual = simulate_ZIKV_usual( ( R0Z, lZ, R0D, seed0, Nsim, 'yearly' ) )"
   ]
  },
  {
   "cell_type": "markdown",
   "id": "c9ff7d61",
   "metadata": {},
   "source": [
    "Now calculate mean observed age in the fourth year after ZIKV is introduced, and average over simulations"
   ]
  },
  {
   "cell_type": "code",
   "execution_count": 28,
   "id": "b17c582c",
   "metadata": {},
   "outputs": [
    {
     "name": "stdout",
     "output_type": "stream",
     "text": [
      "Null hypothesis: 24.513030386320388 y\n",
      "Hypothesis (i): 18.86434622961503 y\n",
      "Hypothesis (ii): 21.1817492801291 y\n"
     ]
    }
   ],
   "source": [
    "mean_obs_0  = np.mean( measure_mean_obs_age( incUsual, ws_0, 3, np.arange( 101 ) ) )\n",
    "mean_obs_i  = np.mean( measure_mean_obs_age( incUsual, ws_i, 3, np.arange( 101 ) ) )\n",
    "mean_obs_ii = np.mean( measure_mean_obs_age( incUsual, ws_ii, 3, np.arange( 101 ) ) )\n",
    "\n",
    "print( 'Null hypothesis:',  mean_obs_0, 'y')\n",
    "print( 'Hypothesis (i):',   mean_obs_i, 'y')\n",
    "print( 'Hypothesis (ii):',  mean_obs_ii, 'y')"
   ]
  },
  {
   "cell_type": "markdown",
   "id": "f59096b1",
   "metadata": {},
   "source": [
    "This should be compared with the mean age of reported cases in **absence of ZIKV**\n",
    "To this end, we run simulations where ZIKV transmissibility is set to 0 so that no transmission occurs."
   ]
  },
  {
   "cell_type": "code",
   "execution_count": 32,
   "id": "aef776af",
   "metadata": {},
   "outputs": [],
   "source": [
    "seed1 = 2 # Seed for random number generator\n",
    "incReference = simulate_ZIKV_usual( ( 0., lZ, R0D, seed1, Nsim, 'yearly' ) ) "
   ]
  },
  {
   "cell_type": "markdown",
   "id": "bcc84c5b",
   "metadata": {},
   "source": [
    "Mean observed age in absence of ZIKV is then (any of the 3 sets of weights works):"
   ]
  },
  {
   "cell_type": "code",
   "execution_count": 35,
   "id": "6c8bad4f",
   "metadata": {},
   "outputs": [
    {
     "name": "stdout",
     "output_type": "stream",
     "text": [
      "24.14108938334129\n"
     ]
    }
   ],
   "source": [
    "mean_obs_ref  = np.mean( measure_mean_obs_age( incReference, ws_0, 3, np.arange( 101 ) ) )\n",
    "print( mean_obs_ref )"
   ]
  },
  {
   "cell_type": "markdown",
   "id": "01ea3d0d",
   "metadata": {},
   "source": [
    "For any set of weights, the age shift is calculated as:\n",
    "\n",
    "$$\\Delta = \\dfrac{A(D|Z) - A(D)}{A(D)}$$\n",
    "\n",
    "Where $A(D), A(D|Z)$ represent the mean age of reported cases in absence and presence of ZIKV, respectively."
   ]
  },
  {
   "cell_type": "code",
   "execution_count": 36,
   "id": "4faff0a7",
   "metadata": {},
   "outputs": [
    {
     "name": "stdout",
     "output_type": "stream",
     "text": [
      "Null hypothesis: 0.015406968470766672 y\n",
      "Hypothesis (i): -0.2185793304492509 y\n",
      "Hypothesis (ii): -0.12258519307974144 y\n"
     ]
    }
   ],
   "source": [
    "Δ_0  = ( mean_obs_0 - mean_obs_ref ) / mean_obs_ref\n",
    "Δ_i  = ( mean_obs_i - mean_obs_ref ) / mean_obs_ref\n",
    "Δ_ii = ( mean_obs_ii - mean_obs_ref ) / mean_obs_ref\n",
    "\n",
    "print( 'Null hypothesis:',  Δ_0, 'y')\n",
    "print( 'Hypothesis (i):',   Δ_i, 'y')\n",
    "print( 'Hypothesis (ii):',  Δ_ii, 'y')"
   ]
  },
  {
   "cell_type": "markdown",
   "id": "8f0ee777",
   "metadata": {},
   "source": [
    "# Further simulations with seroprevalence-informed initialisations\n",
    "\n",
    "This section shows how to simulate DENV with a particular initial age-profile of seroprevalence (further details can be found in the manuscript).\n",
    "\n",
    "In addition, ZIKV is initialised by setting a (large) proportion of the population as infected while preventing onward transmission ($R_{0,Z}=0$)\n",
    "\n",
    "Here we use a serological age profile relative to Salvador, Bahia (2015), obtained from [Rodriguez-Barraquer et Al., *Science*, 2019](https://www.science.org/doi/10.1126/science.aav6618?url_ver=Z39.88-2003&rfr_id=ori:rid:crossref.org&rfr_dat=cr_pub%20%200pubmed) "
   ]
  },
  {
   "cell_type": "code",
   "execution_count": 43,
   "id": "6bf21569",
   "metadata": {},
   "outputs": [
    {
     "data": {
      "text/plain": [
       "Text(0, 0.5, 'Proportion seropositive')"
      ]
     },
     "execution_count": 43,
     "metadata": {},
     "output_type": "execute_result"
    },
    {
     "data": {
      "image/png": "[encoded data removed]",
      "text/plain": [
       "<Figure size 640x480 with 1 Axes>"
      ]
     },
     "metadata": {},
     "output_type": "display_data"
    }
   ],
   "source": [
    "#== plot seroprevalence profile\n",
    "\n",
    "sero_salvador = {\n",
    "    'age' : [ '(0,5]', '(5,8]', '(8,11]', '(11,15]', '(15,20]', '(20,35]', '(35,55]', '(55,90]' ],\n",
    "    'val' : [ np.nan, 0.65671642, 0.80000000, 0.86896552, 0.90243902, 0.91525424, 0.95604396, 0.92307692 ],\n",
    "    'n'   : [ 0, 67, 100, 145, 82, 118, 91, 39 ]\n",
    "}\n",
    "\n",
    "x = np.array( sero_salvador['age'] )\n",
    "y = np.array( sero_salvador['val'] )\n",
    "n = np.array( sero_salvador['n'] )\n",
    "\n",
    "# plot seroprevalence alongside the estimated error\n",
    "plt.errorbar( x, y, yerr = 1.96 * np.sqrt( y * ( 1 - y ) / n ), color = 'black', \n",
    "               label = 'Data (Isabel,Salvador)', lw = 3 )\n",
    "\n",
    "plt.xlabel('Age class')\n",
    "plt.ylabel('Proportion seropositive')"
   ]
  },
  {
   "cell_type": "code",
   "execution_count": null,
   "id": "29402430",
   "metadata": {},
   "outputs": [],
   "source": []
  },
  {
   "cell_type": "code",
   "execution_count": 46,
   "id": "cb92b44a",
   "metadata": {},
   "outputs": [],
   "source": [
    "def simulate_ZIKV_serology_informed( args ):\n",
    "\n",
    "    '''\n",
    "    Simulates ZIKV transmission in a population where background DENV immunity\n",
    "    and initial prevalence are determined by an external serological profile.\n",
    "    \n",
    "    Assumes that a recent ZIKV infections prevents DENV transmission.\n",
    "        \n",
    "    ZIKV is introduced by infecting a (large) fraction propZ of hosts,\n",
    "    while onward transmission is fully prevented.\n",
    "    \n",
    "    Returns incidence of DENV and ZIKV for 5 years\n",
    "    after ZIKV introduction.\n",
    "    '''\n",
    "    \n",
    "    #== Fixed parameters                                                                                                                                         \n",
    "    N = 300000 # Population size\n",
    "    Tsample = 0 # Sample incidence from this point\n",
    "    TintroZ = 40 # Time of Zika introduction\n",
    "    Tmax = Tsample + 5 * 365 # Stopping time\n",
    "\n",
    "    nstrains = 5 # Number of pathogens (4 DENV serotypes + ZIKV)\n",
    "    epsiD = 1./15.9 # DENV incubation rate (1/days)\n",
    "    epsiZ = 1./15.9 # ZIKV incubation rate (1/days)\n",
    "    sigmaD = 1./4.5 # DENV recovery rate (1/days)\n",
    "    sigmaZ = 1./4.5 # ZIKV recovery rate (1/days)\n",
    "    intro_rate = 2. / 30 # DENV introduction rate\n",
    "    mean_degree = 1. # Mean number of contacts made daily by individuals\n",
    "    lD = 2. # Duration of cross-protection (years)\n",
    "    seasD = 0.3 # Seasonal amplitude of DENV transmission\n",
    "    seasZ = 0.  # Seasonal amplitude of ZIKV transmission\n",
    "    peakD = 15. # Peak time (day) of DENV seasonality \n",
    "    peakZ = 0.  # Peak time (day) of ZIKV seasonality \n",
    "    age_shape = 3.3 # Weibull parameter of population age distribution (1)\n",
    "    age_scale = 62  # Weibull parameter of population age distribution (2)\n",
    "\n",
    "    # Cross reactivity parameters\n",
    "    rhoDZ, rhoZD, rhoZD0 = 1., 1., 1. # Modified susceptibility to infection\n",
    "    csiDZ, csiZD = 1., 0. # Modified susceptibility to transmission\n",
    "    gamma1D, gamma2D = 1., 1. # Further arguments (unit value corresponds to no effect)\n",
    "    gamma1Z, gamma2Z = 1., 1. # Further arguments (unit value corresponds to no effect)\n",
    "    \n",
    "    # serology parameters\n",
    "    sero_lam1 = np.exp(-3.23) / 365.\n",
    "    sero_lam2 = np.exp(-6.55) / 365.\n",
    "    sero_a0 = 16. * 365\n",
    "\n",
    "    #== External arguments:\n",
    "    # (1) proportion of ZIKV\n",
    "    # (2) Duration of cross-protection following ZIKV infection\n",
    "    # (3) R0 of DENV\n",
    "    # (4) Seed for c++ random number generator\n",
    "    # (5) Number of simulations\n",
    "    # (6) Frequency of sampling\n",
    "    propZ, lZ, R0D, seed, Nsim, freqSampling = args\n",
    "    \n",
    "    betaZ = 0. # No ZIKV transmission\n",
    "    betaD = R0D * sigmaD # Transmission rate of DENV\n",
    "    nZIKV0 = int( propZ * N ) # initial number of ZIKV cases\n",
    "\n",
    "    # Define monthly sampling time points \n",
    "    checkpts = get_checkpts( Tsample, Tmax, freqSampling)\n",
    "\n",
    "    # returns incidence\n",
    "    inc = pyflavi.simulate_ZIKV_sero( Nsim, seed, Tmax, Tsample, TintroZ, N, nstrains, \n",
    "                                     [0,1,2,3], checkpts, False, betaD, betaZ, epsiD, \n",
    "                                     epsiZ, sigmaD, sigmaZ, mean_degree, lD, lZ, \n",
    "                                     intro_rate, seasD, seasZ, peakD, peakZ, age_shape, \n",
    "                                     age_scale, rhoDZ, rhoZD, rhoZD0, csiDZ, csiZD, \n",
    "                                     gamma1D, gamma1Z, gamma2D, gamma2Z, \n",
    "                                     sero_lam1, sero_lam2, sero_a0, nZIKV0 )\n",
    "\n",
    "    inc = np.array( inc )\n",
    "\n",
    "    #np.save( path_save, inc )\n",
    "    return inc"
   ]
  },
  {
   "cell_type": "code",
   "execution_count": 48,
   "id": "9aab9ce9",
   "metadata": {},
   "outputs": [],
   "source": [
    "#== Set parameters\n",
    "\n",
    "Nsim = 10 # Number of independent simulations\n",
    "propZ = 0.7 # ZIKV attack rate (0.7 means 70% of people are expected to become infected)\n",
    "R0Z = - np.log( 1 - propZ ) / propZ # Retrieve the R0 of ZIKV corresponding to attack rate above\n",
    "lZ = 1. # Duration of ZIKV-induced cross-protection (years)\n",
    "R0D = 1.65 # R0 of DENV\n",
    "\n",
    "#== Simulation (10 initial infected & onward transmission)\n",
    "seed0 = 1 # Seed for random number generator\n",
    "incSero = simulate_ZIKV_serology_informed( ( propZ, lZ, R0D, seed0, Nsim, 'yearly' ) ) "
   ]
  },
  {
   "cell_type": "markdown",
   "id": "c797eddf",
   "metadata": {},
   "source": [
    "Incidence can then be analysed by using the same machinery presented above.\n",
    "For example, the mean age of reported cases assuming that ZIKV behaves as a fifth DENV serotype is:"
   ]
  },
  {
   "cell_type": "code",
   "execution_count": 51,
   "id": "c991d337",
   "metadata": {},
   "outputs": [
    {
     "data": {
      "text/plain": [
       "22.18848443068223"
      ]
     },
     "execution_count": 51,
     "metadata": {},
     "output_type": "execute_result"
    }
   ],
   "source": [
    "np.mean( measure_mean_obs_age( incSero, ws_i, 3, np.arange( 101 ) ) )"
   ]
  },
  {
   "cell_type": "code",
   "execution_count": null,
   "id": "2b542dfc",
   "metadata": {},
   "outputs": [],
   "source": []
  }
 ],
 "metadata": {
  "kernelspec": {
   "display_name": "Python 3 (ipykernel)",
   "language": "python",
   "name": "python3"
  },
  "language_info": {
   "codemirror_mode": {
    "name": "ipython",
    "version": 3
   },
   "file_extension": ".py",
   "mimetype": "text/x-python",
   "name": "python",
   "nbconvert_exporter": "python",
   "pygments_lexer": "ipython3",
   "version": "3.8.13"
  }
 },
 "nbformat": 4,
 "nbformat_minor": 5
}
